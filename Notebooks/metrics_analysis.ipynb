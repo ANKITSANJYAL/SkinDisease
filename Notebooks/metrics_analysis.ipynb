{
 "cells": [
  {
   "cell_type": "code",
   "execution_count": 5,
   "metadata": {},
   "outputs": [
    {
     "name": "stderr",
     "output_type": "stream",
     "text": [
      "WARNING:absl:Compiled the loaded model, but the compiled metrics have yet to be built. `model.compile_metrics` will be empty until you train or evaluate the model.\n"
     ]
    }
   ],
   "source": [
    "from tensorflow.keras.models import load_model\n",
    "\n",
    "model = load_model(\"../models/VGG16.h5\")\n"
   ]
  },
  {
   "cell_type": "code",
   "execution_count": 6,
   "metadata": {},
   "outputs": [],
   "source": [
    "import numpy as np\n",
    "from sklearn.metrics import classification_report\n",
    "from tensorflow.keras.utils import to_categorical  # for one-hot encoding\n",
    "\n",
    "\n",
    "X_test = np.load('../data/256_192_test.npy')\n",
    "y_test = np.load('../data/test_labels.npy')\n",
    "y_test = to_categorical(y_test)\n"
   ]
  },
  {
   "cell_type": "markdown",
   "metadata": {},
   "source": [
    "# Using Vgg 16"
   ]
  },
  {
   "cell_type": "code",
   "execution_count": 7,
   "metadata": {},
   "outputs": [
    {
     "name": "stdout",
     "output_type": "stream",
     "text": [
      "\u001b[1m32/32\u001b[0m \u001b[32m━━━━━━━━━━━━━━━━━━━━\u001b[0m\u001b[37m\u001b[0m \u001b[1m4s\u001b[0m 121ms/step\n",
      "              precision    recall  f1-score   support\n",
      "\n",
      "     Label A     0.5000    0.1429    0.2222        28\n",
      "     Label B     0.6667    0.5614    0.6095        57\n",
      "     Label C     0.4497    0.6204    0.5214       108\n",
      "     Label D     0.0000    0.0000    0.0000        15\n",
      "     Label E     0.8820    0.9263    0.9036       678\n",
      "     Label F     0.7857    0.7857    0.7857        14\n",
      "     Label G     0.5000    0.3431    0.4070       102\n",
      "\n",
      "    accuracy                         0.7754      1002\n",
      "   macro avg     0.5406    0.4828    0.4928      1002\n",
      "weighted avg     0.7591    0.7754    0.7609      1002\n",
      "\n"
     ]
    }
   ],
   "source": [
    "\n",
    "# --- Predict using the model ---\n",
    "y_pred_probs = model.predict(X_test)\n",
    "\n",
    "# --- Convert predicted probabilities to class labels ---\n",
    "y_pred = np.argmax(y_pred_probs, axis=1)\n",
    "\n",
    "# --- Convert true labels to class indices if one-hot encoded ---\n",
    "if y_test.ndim == 2 and y_test.shape[1] > 1:\n",
    "    y_test = np.argmax(y_test, axis=1)\n",
    "\n",
    "# --- Define class names ---\n",
    "class_names = ['Label A', 'Label B', 'Label C', 'Label D', 'Label E', 'Label F', 'Label G']  # 🔁 change as needed\n",
    "\n",
    "# --- Print classification report ---\n",
    "print(classification_report(y_test, y_pred, target_names=class_names, digits=4))\n"
   ]
  },
  {
   "cell_type": "markdown",
   "metadata": {},
   "source": [
    "## Using Inception V3"
   ]
  },
  {
   "cell_type": "code",
   "execution_count": 8,
   "metadata": {},
   "outputs": [
    {
     "name": "stderr",
     "output_type": "stream",
     "text": [
      "WARNING:absl:Compiled the loaded model, but the compiled metrics have yet to be built. `model.compile_metrics` will be empty until you train or evaluate the model.\n"
     ]
    }
   ],
   "source": [
    "model = load_model(\"../models/InceptionV3FT.h5\")"
   ]
  },
  {
   "cell_type": "code",
   "execution_count": 9,
   "metadata": {},
   "outputs": [
    {
     "name": "stdout",
     "output_type": "stream",
     "text": [
      "\u001b[1m32/32\u001b[0m \u001b[32m━━━━━━━━━━━━━━━━━━━━\u001b[0m\u001b[37m\u001b[0m \u001b[1m6s\u001b[0m 143ms/step\n",
      "              precision    recall  f1-score   support\n",
      "\n",
      "     Label A     0.8889    0.2857    0.4324        28\n",
      "     Label B     0.7727    0.5965    0.6733        57\n",
      "     Label C     0.4752    0.6204    0.5382       108\n",
      "     Label D     0.6000    0.2000    0.3000        15\n",
      "     Label E     0.8638    0.9263    0.8940       678\n",
      "     Label F     0.8000    0.5714    0.6667        14\n",
      "     Label G     0.4848    0.3137    0.3810       102\n",
      "\n",
      "    accuracy                         0.7784      1002\n",
      "   macro avg     0.6979    0.5020    0.5551      1002\n",
      "weighted avg     0.7740    0.7784    0.7659      1002\n",
      "\n"
     ]
    }
   ],
   "source": [
    "\n",
    "# --- Predict using the model ---\n",
    "y_pred_probs = model.predict(X_test)\n",
    "\n",
    "# --- Convert predicted probabilities to class labels ---\n",
    "y_pred = np.argmax(y_pred_probs, axis=1)\n",
    "\n",
    "# --- Convert true labels to class indices if one-hot encoded ---\n",
    "if y_test.ndim == 2 and y_test.shape[1] > 1:\n",
    "    y_test = np.argmax(y_test, axis=1)\n",
    "\n",
    "# --- Define class names ---\n",
    "class_names = ['Label A', 'Label B', 'Label C', 'Label D', 'Label E', 'Label F', 'Label G']  # 🔁 change as needed\n",
    "\n",
    "# --- Print classification report ---\n",
    "print(classification_report(y_test, y_pred, target_names=class_names, digits=4))\n"
   ]
  },
  {
   "cell_type": "code",
   "execution_count": 11,
   "metadata": {},
   "outputs": [
    {
     "name": "stderr",
     "output_type": "stream",
     "text": [
      "WARNING:absl:Compiled the loaded model, but the compiled metrics have yet to be built. `model.compile_metrics` will be empty until you train or evaluate the model.\n"
     ]
    }
   ],
   "source": [
    "model = load_model(\"../models/Densenet.h5\")"
   ]
  },
  {
   "cell_type": "code",
   "execution_count": 12,
   "metadata": {},
   "outputs": [
    {
     "name": "stdout",
     "output_type": "stream",
     "text": [
      "\u001b[1m32/32\u001b[0m \u001b[32m━━━━━━━━━━━━━━━━━━━━\u001b[0m\u001b[37m\u001b[0m \u001b[1m16s\u001b[0m 338ms/step\n",
      "              precision    recall  f1-score   support\n",
      "\n",
      "     Label A     0.8462    0.3929    0.5366        28\n",
      "     Label B     0.8837    0.6667    0.7600        57\n",
      "     Label C     0.5097    0.7315    0.6008       108\n",
      "     Label D     0.8750    0.4667    0.6087        15\n",
      "     Label E     0.9394    0.9145    0.9268       678\n",
      "     Label F     1.0000    0.9286    0.9630        14\n",
      "     Label G     0.5364    0.5784    0.5566       102\n",
      "\n",
      "    accuracy                         0.8253      1002\n",
      "   macro avg     0.7986    0.6684    0.7075      1002\n",
      "weighted avg     0.8462    0.8253    0.8293      1002\n",
      "\n"
     ]
    }
   ],
   "source": [
    "\n",
    "# --- Predict using the model ---\n",
    "y_pred_probs = model.predict(X_test)\n",
    "\n",
    "# --- Convert predicted probabilities to class labels ---\n",
    "y_pred = np.argmax(y_pred_probs, axis=1)\n",
    "\n",
    "# --- Convert true labels to class indices if one-hot encoded ---\n",
    "if y_test.ndim == 2 and y_test.shape[1] > 1:\n",
    "    y_test = np.argmax(y_test, axis=1)\n",
    "\n",
    "# --- Define class names ---\n",
    "class_names = ['Label A', 'Label B', 'Label C', 'Label D', 'Label E', 'Label F', 'Label G']  # 🔁 change as needed\n",
    "\n",
    "# --- Print classification report ---\n",
    "print(classification_report(y_test, y_pred, target_names=class_names, digits=4))\n"
   ]
  },
  {
   "cell_type": "code",
   "execution_count": null,
   "metadata": {},
   "outputs": [],
   "source": []
  }
 ],
 "metadata": {
  "kernelspec": {
   "display_name": "Python 3",
   "language": "python",
   "name": "python3"
  },
  "language_info": {
   "codemirror_mode": {
    "name": "ipython",
    "version": 3
   },
   "file_extension": ".py",
   "mimetype": "text/x-python",
   "name": "python",
   "nbconvert_exporter": "python",
   "pygments_lexer": "ipython3",
   "version": "3.9.6"
  }
 },
 "nbformat": 4,
 "nbformat_minor": 2
}
